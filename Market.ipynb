{
  "nbformat": 4,
  "nbformat_minor": 0,
  "metadata": {
    "colab": {
      "provenance": [],
      "authorship_tag": "ABX9TyNxDgC8VGIFZp1ZCswEmO7i",
      "include_colab_link": true
    },
    "kernelspec": {
      "name": "python3",
      "display_name": "Python 3"
    },
    "language_info": {
      "name": "python"
    }
  },
  "cells": [
    {
      "cell_type": "markdown",
      "metadata": {
        "id": "view-in-github",
        "colab_type": "text"
      },
      "source": [
        "<a href=\"https://colab.research.google.com/github/romsanml/market_intern/blob/main/Market.ipynb\" target=\"_parent\"><img src=\"https://colab.research.google.com/assets/colab-badge.svg\" alt=\"Open In Colab\"/></a>"
      ]
    },
    {
      "cell_type": "code",
      "execution_count": null,
      "metadata": {
        "id": "cb8tG4HixG2h"
      },
      "outputs": [],
      "source": [
        "import numpy  as np\n",
        "import pandas as pd"
      ]
    },
    {
      "cell_type": "code",
      "source": [
        "from google.colab import drive\n",
        "drive.mount('/content/drive')"
      ],
      "metadata": {
        "colab": {
          "base_uri": "https://localhost:8080/"
        },
        "id": "2aUSCwDHVaB2",
        "outputId": "6ce3ae58-9c02-4ab1-9ad6-be7de0a4f19e"
      },
      "execution_count": null,
      "outputs": [
        {
          "output_type": "stream",
          "name": "stdout",
          "text": [
            "Mounted at /content/drive\n"
          ]
        }
      ]
    },
    {
      "cell_type": "code",
      "source": [
        "path_file = '/content/drive/My Drive/Intern/Market/Аналитика Графики 01.06.2022-31.05.2023.xlsx'\n",
        "df = pd.read_excel(path_file)\n",
        "df.head()"
      ],
      "metadata": {
        "colab": {
          "base_uri": "https://localhost:8080/",
          "height": 511
        },
        "id": "VL6Or5a4VZ-7",
        "outputId": "33791994-9330-4026-b201-d6d1aa248f4c"
      },
      "execution_count": null,
      "outputs": [
        {
          "output_type": "execute_result",
          "data": {
            "text/plain": [
              "       Категория 3-го уровня                         Товары  \\\n",
              "0  Разное автопринадлежности  Светодиодная подсветка салона   \n",
              "1  Разное автопринадлежности  Светодиодная подсветка салона   \n",
              "2  Разное автопринадлежности  Светодиодная подсветка салона   \n",
              "3  Разное автопринадлежности  Светодиодная подсветка салона   \n",
              "4  Разное автопринадлежности  Светодиодная подсветка салона   \n",
              "\n",
              "                          Модель    Ozon ID Артикул        День  \\\n",
              "0  Светодиодная подсветка салона  882353426   34414  2023-03-03   \n",
              "1  Светодиодная подсветка салона  882353426   34414  2023-03-05   \n",
              "2  Светодиодная подсветка салона  882353427   34414  2023-03-05   \n",
              "3  Светодиодная подсветка салона  882353427   34414  2023-03-06   \n",
              "4  Светодиодная подсветка салона  882353427   34414  2023-03-07   \n",
              "\n",
              "   Уникальные посетители, всего  \\\n",
              "0                             1   \n",
              "1                             1   \n",
              "2                            65   \n",
              "3                            85   \n",
              "4                            44   \n",
              "\n",
              "   Уникальные посетители с просмотром карточки товара  Показы, всего  \\\n",
              "0                                                  1               6   \n",
              "1                                                  0               2   \n",
              "2                                                  3              69   \n",
              "3                                                  3             109   \n",
              "4                                                  2              50   \n",
              "\n",
              "   Показы на карточке товара  Показы в поиске и каталоге  \\\n",
              "0                          1                           4   \n",
              "1                          0                           2   \n",
              "2                          3                          40   \n",
              "3                          3                          46   \n",
              "4                          2                          37   \n",
              "\n",
              "  Позиция в поиске и каталоге  В корзину, всего  Заказано товаров  \\\n",
              "0                        1,00                 0                 0   \n",
              "1                        1,00                 0                 0   \n",
              "2                      110,33                 0                 0   \n",
              "3                      103,43                 0                 0   \n",
              "4                       97,14                 0                 0   \n",
              "\n",
              "   Отменено товаров  Доставлено (за выбранный период)  Возвращено товаров  \\\n",
              "0                 0                                 0                   0   \n",
              "1                 0                                 0                   0   \n",
              "2                 0                                 0                   0   \n",
              "3                 0                                 0                   0   \n",
              "4                 0                                 0                   0   \n",
              "\n",
              "   Заказано на сумму  Отправления с премиум-подпиской, принятые в обработку  \n",
              "0                  0                                                  0      \n",
              "1                  0                                                  0      \n",
              "2                  0                                                  0      \n",
              "3                  0                                                  0      \n",
              "4                  0                                                  0      "
            ],
            "text/html": [
              "\n",
              "  <div id=\"df-9d7081fc-d542-42ee-9787-807c9389a7a1\">\n",
              "    <div class=\"colab-df-container\">\n",
              "      <div>\n",
              "<style scoped>\n",
              "    .dataframe tbody tr th:only-of-type {\n",
              "        vertical-align: middle;\n",
              "    }\n",
              "\n",
              "    .dataframe tbody tr th {\n",
              "        vertical-align: top;\n",
              "    }\n",
              "\n",
              "    .dataframe thead th {\n",
              "        text-align: right;\n",
              "    }\n",
              "</style>\n",
              "<table border=\"1\" class=\"dataframe\">\n",
              "  <thead>\n",
              "    <tr style=\"text-align: right;\">\n",
              "      <th></th>\n",
              "      <th>Категория 3-го уровня</th>\n",
              "      <th>Товары</th>\n",
              "      <th>Модель</th>\n",
              "      <th>Ozon ID</th>\n",
              "      <th>Артикул</th>\n",
              "      <th>День</th>\n",
              "      <th>Уникальные посетители, всего</th>\n",
              "      <th>Уникальные посетители с просмотром карточки товара</th>\n",
              "      <th>Показы, всего</th>\n",
              "      <th>Показы на карточке товара</th>\n",
              "      <th>Показы в поиске и каталоге</th>\n",
              "      <th>Позиция в поиске и каталоге</th>\n",
              "      <th>В корзину, всего</th>\n",
              "      <th>Заказано товаров</th>\n",
              "      <th>Отменено товаров</th>\n",
              "      <th>Доставлено (за выбранный период)</th>\n",
              "      <th>Возвращено товаров</th>\n",
              "      <th>Заказано на сумму</th>\n",
              "      <th>Отправления с премиум-подпиской, принятые в обработку</th>\n",
              "    </tr>\n",
              "  </thead>\n",
              "  <tbody>\n",
              "    <tr>\n",
              "      <th>0</th>\n",
              "      <td>Разное автопринадлежности</td>\n",
              "      <td>Светодиодная подсветка салона</td>\n",
              "      <td>Светодиодная подсветка салона</td>\n",
              "      <td>882353426</td>\n",
              "      <td>34414</td>\n",
              "      <td>2023-03-03</td>\n",
              "      <td>1</td>\n",
              "      <td>1</td>\n",
              "      <td>6</td>\n",
              "      <td>1</td>\n",
              "      <td>4</td>\n",
              "      <td>1,00</td>\n",
              "      <td>0</td>\n",
              "      <td>0</td>\n",
              "      <td>0</td>\n",
              "      <td>0</td>\n",
              "      <td>0</td>\n",
              "      <td>0</td>\n",
              "      <td>0</td>\n",
              "    </tr>\n",
              "    <tr>\n",
              "      <th>1</th>\n",
              "      <td>Разное автопринадлежности</td>\n",
              "      <td>Светодиодная подсветка салона</td>\n",
              "      <td>Светодиодная подсветка салона</td>\n",
              "      <td>882353426</td>\n",
              "      <td>34414</td>\n",
              "      <td>2023-03-05</td>\n",
              "      <td>1</td>\n",
              "      <td>0</td>\n",
              "      <td>2</td>\n",
              "      <td>0</td>\n",
              "      <td>2</td>\n",
              "      <td>1,00</td>\n",
              "      <td>0</td>\n",
              "      <td>0</td>\n",
              "      <td>0</td>\n",
              "      <td>0</td>\n",
              "      <td>0</td>\n",
              "      <td>0</td>\n",
              "      <td>0</td>\n",
              "    </tr>\n",
              "    <tr>\n",
              "      <th>2</th>\n",
              "      <td>Разное автопринадлежности</td>\n",
              "      <td>Светодиодная подсветка салона</td>\n",
              "      <td>Светодиодная подсветка салона</td>\n",
              "      <td>882353427</td>\n",
              "      <td>34414</td>\n",
              "      <td>2023-03-05</td>\n",
              "      <td>65</td>\n",
              "      <td>3</td>\n",
              "      <td>69</td>\n",
              "      <td>3</td>\n",
              "      <td>40</td>\n",
              "      <td>110,33</td>\n",
              "      <td>0</td>\n",
              "      <td>0</td>\n",
              "      <td>0</td>\n",
              "      <td>0</td>\n",
              "      <td>0</td>\n",
              "      <td>0</td>\n",
              "      <td>0</td>\n",
              "    </tr>\n",
              "    <tr>\n",
              "      <th>3</th>\n",
              "      <td>Разное автопринадлежности</td>\n",
              "      <td>Светодиодная подсветка салона</td>\n",
              "      <td>Светодиодная подсветка салона</td>\n",
              "      <td>882353427</td>\n",
              "      <td>34414</td>\n",
              "      <td>2023-03-06</td>\n",
              "      <td>85</td>\n",
              "      <td>3</td>\n",
              "      <td>109</td>\n",
              "      <td>3</td>\n",
              "      <td>46</td>\n",
              "      <td>103,43</td>\n",
              "      <td>0</td>\n",
              "      <td>0</td>\n",
              "      <td>0</td>\n",
              "      <td>0</td>\n",
              "      <td>0</td>\n",
              "      <td>0</td>\n",
              "      <td>0</td>\n",
              "    </tr>\n",
              "    <tr>\n",
              "      <th>4</th>\n",
              "      <td>Разное автопринадлежности</td>\n",
              "      <td>Светодиодная подсветка салона</td>\n",
              "      <td>Светодиодная подсветка салона</td>\n",
              "      <td>882353427</td>\n",
              "      <td>34414</td>\n",
              "      <td>2023-03-07</td>\n",
              "      <td>44</td>\n",
              "      <td>2</td>\n",
              "      <td>50</td>\n",
              "      <td>2</td>\n",
              "      <td>37</td>\n",
              "      <td>97,14</td>\n",
              "      <td>0</td>\n",
              "      <td>0</td>\n",
              "      <td>0</td>\n",
              "      <td>0</td>\n",
              "      <td>0</td>\n",
              "      <td>0</td>\n",
              "      <td>0</td>\n",
              "    </tr>\n",
              "  </tbody>\n",
              "</table>\n",
              "</div>\n",
              "      <button class=\"colab-df-convert\" onclick=\"convertToInteractive('df-9d7081fc-d542-42ee-9787-807c9389a7a1')\"\n",
              "              title=\"Convert this dataframe to an interactive table.\"\n",
              "              style=\"display:none;\">\n",
              "        \n",
              "  <svg xmlns=\"http://www.w3.org/2000/svg\" height=\"24px\"viewBox=\"0 0 24 24\"\n",
              "       width=\"24px\">\n",
              "    <path d=\"M0 0h24v24H0V0z\" fill=\"none\"/>\n",
              "    <path d=\"M18.56 5.44l.94 2.06.94-2.06 2.06-.94-2.06-.94-.94-2.06-.94 2.06-2.06.94zm-11 1L8.5 8.5l.94-2.06 2.06-.94-2.06-.94L8.5 2.5l-.94 2.06-2.06.94zm10 10l.94 2.06.94-2.06 2.06-.94-2.06-.94-.94-2.06-.94 2.06-2.06.94z\"/><path d=\"M17.41 7.96l-1.37-1.37c-.4-.4-.92-.59-1.43-.59-.52 0-1.04.2-1.43.59L10.3 9.45l-7.72 7.72c-.78.78-.78 2.05 0 2.83L4 21.41c.39.39.9.59 1.41.59.51 0 1.02-.2 1.41-.59l7.78-7.78 2.81-2.81c.8-.78.8-2.07 0-2.86zM5.41 20L4 18.59l7.72-7.72 1.47 1.35L5.41 20z\"/>\n",
              "  </svg>\n",
              "      </button>\n",
              "      \n",
              "  <style>\n",
              "    .colab-df-container {\n",
              "      display:flex;\n",
              "      flex-wrap:wrap;\n",
              "      gap: 12px;\n",
              "    }\n",
              "\n",
              "    .colab-df-convert {\n",
              "      background-color: #E8F0FE;\n",
              "      border: none;\n",
              "      border-radius: 50%;\n",
              "      cursor: pointer;\n",
              "      display: none;\n",
              "      fill: #1967D2;\n",
              "      height: 32px;\n",
              "      padding: 0 0 0 0;\n",
              "      width: 32px;\n",
              "    }\n",
              "\n",
              "    .colab-df-convert:hover {\n",
              "      background-color: #E2EBFA;\n",
              "      box-shadow: 0px 1px 2px rgba(60, 64, 67, 0.3), 0px 1px 3px 1px rgba(60, 64, 67, 0.15);\n",
              "      fill: #174EA6;\n",
              "    }\n",
              "\n",
              "    [theme=dark] .colab-df-convert {\n",
              "      background-color: #3B4455;\n",
              "      fill: #D2E3FC;\n",
              "    }\n",
              "\n",
              "    [theme=dark] .colab-df-convert:hover {\n",
              "      background-color: #434B5C;\n",
              "      box-shadow: 0px 1px 3px 1px rgba(0, 0, 0, 0.15);\n",
              "      filter: drop-shadow(0px 1px 2px rgba(0, 0, 0, 0.3));\n",
              "      fill: #FFFFFF;\n",
              "    }\n",
              "  </style>\n",
              "\n",
              "      <script>\n",
              "        const buttonEl =\n",
              "          document.querySelector('#df-9d7081fc-d542-42ee-9787-807c9389a7a1 button.colab-df-convert');\n",
              "        buttonEl.style.display =\n",
              "          google.colab.kernel.accessAllowed ? 'block' : 'none';\n",
              "\n",
              "        async function convertToInteractive(key) {\n",
              "          const element = document.querySelector('#df-9d7081fc-d542-42ee-9787-807c9389a7a1');\n",
              "          const dataTable =\n",
              "            await google.colab.kernel.invokeFunction('convertToInteractive',\n",
              "                                                     [key], {});\n",
              "          if (!dataTable) return;\n",
              "\n",
              "          const docLinkHtml = 'Like what you see? Visit the ' +\n",
              "            '<a target=\"_blank\" href=https://colab.research.google.com/notebooks/data_table.ipynb>data table notebook</a>'\n",
              "            + ' to learn more about interactive tables.';\n",
              "          element.innerHTML = '';\n",
              "          dataTable['output_type'] = 'display_data';\n",
              "          await google.colab.output.renderOutput(dataTable, element);\n",
              "          const docLink = document.createElement('div');\n",
              "          docLink.innerHTML = docLinkHtml;\n",
              "          element.appendChild(docLink);\n",
              "        }\n",
              "      </script>\n",
              "    </div>\n",
              "  </div>\n",
              "  "
            ]
          },
          "metadata": {},
          "execution_count": 3
        }
      ]
    },
    {
      "cell_type": "code",
      "source": [
        "df.info()"
      ],
      "metadata": {
        "colab": {
          "base_uri": "https://localhost:8080/"
        },
        "id": "fNHOJSPLWg22",
        "outputId": "6e9bc4ee-acb7-4e00-ffea-1e8d05c0c846"
      },
      "execution_count": null,
      "outputs": [
        {
          "output_type": "stream",
          "name": "stdout",
          "text": [
            "<class 'pandas.core.frame.DataFrame'>\n",
            "RangeIndex: 254748 entries, 0 to 254747\n",
            "Data columns (total 19 columns):\n",
            " #   Column                                                 Non-Null Count   Dtype \n",
            "---  ------                                                 --------------   ----- \n",
            " 0   Категория 3-го уровня                                  254748 non-null  object\n",
            " 1   Товары                                                 254748 non-null  object\n",
            " 2   Модель                                                 211411 non-null  object\n",
            " 3   Ozon ID                                                254748 non-null  int64 \n",
            " 4   Артикул                                                254748 non-null  object\n",
            " 5   День                                                   254748 non-null  object\n",
            " 6   Уникальные посетители, всего                           254748 non-null  int64 \n",
            " 7   Уникальные посетители с просмотром карточки товара     254748 non-null  int64 \n",
            " 8   Показы, всего                                          254748 non-null  int64 \n",
            " 9   Показы на карточке товара                              254748 non-null  int64 \n",
            " 10  Показы в поиске и каталоге                             254748 non-null  int64 \n",
            " 11  Позиция в поиске и каталоге                            254748 non-null  object\n",
            " 12  В корзину, всего                                       254748 non-null  int64 \n",
            " 13  Заказано товаров                                       254748 non-null  int64 \n",
            " 14  Отменено товаров                                       254748 non-null  int64 \n",
            " 15  Доставлено (за выбранный период)                       254748 non-null  int64 \n",
            " 16  Возвращено товаров                                     254748 non-null  int64 \n",
            " 17  Заказано на сумму                                      254748 non-null  int64 \n",
            " 18  Отправления с премиум-подпиской, принятые в обработку  254748 non-null  int64 \n",
            "dtypes: int64(13), object(6)\n",
            "memory usage: 36.9+ MB\n"
          ]
        }
      ]
    },
    {
      "cell_type": "code",
      "source": [
        "df['Ozon ID'].nunique()"
      ],
      "metadata": {
        "colab": {
          "base_uri": "https://localhost:8080/"
        },
        "id": "X_X2YpjnXo6p",
        "outputId": "525e0302-2f10-4e30-ac6d-5240b6542fdd"
      },
      "execution_count": null,
      "outputs": [
        {
          "output_type": "execute_result",
          "data": {
            "text/plain": [
              "1233"
            ]
          },
          "metadata": {},
          "execution_count": 16
        }
      ]
    },
    {
      "cell_type": "code",
      "source": [
        "df['Ozon ID'].value_counts()"
      ],
      "metadata": {
        "colab": {
          "base_uri": "https://localhost:8080/"
        },
        "id": "OnHIHe1SY__h",
        "outputId": "cfeeb6da-5093-435d-fb46-bc206ec0073f"
      },
      "execution_count": null,
      "outputs": [
        {
          "output_type": "execute_result",
          "data": {
            "text/plain": [
              "275493676    474\n",
              "493736362    369\n",
              "298264234    369\n",
              "493736334    368\n",
              "556907763    368\n",
              "            ... \n",
              "664763758      1\n",
              "664763748      1\n",
              "664763724      1\n",
              "664763413      1\n",
              "747165936      1\n",
              "Name: Ozon ID, Length: 1233, dtype: int64"
            ]
          },
          "metadata": {},
          "execution_count": 18
        }
      ]
    },
    {
      "cell_type": "code",
      "source": [
        "import seaborn as sns\n",
        "import matplotlib.pyplot as plt"
      ],
      "metadata": {
        "id": "ZoWXEQJkarK0"
      },
      "execution_count": null,
      "outputs": []
    },
    {
      "cell_type": "code",
      "source": [
        "plt.figure(figsize=(12,4))\n",
        "\n",
        "sns.countplot(x='Ozon ID', data = df, palette='bright')"
      ],
      "metadata": {
        "colab": {
          "base_uri": "https://localhost:8080/",
          "height": 405
        },
        "id": "JMYJlTveamkZ",
        "outputId": "920112f3-22fc-4a00-f9b1-e5d5e62e4b49"
      },
      "execution_count": null,
      "outputs": [
        {
          "output_type": "execute_result",
          "data": {
            "text/plain": [
              "<Axes: xlabel='Ozon ID', ylabel='count'>"
            ]
          },
          "metadata": {},
          "execution_count": 21
        },
        {
          "output_type": "display_data",
          "data": {
            "text/plain": [
              "<Figure size 1200x400 with 1 Axes>"
            ],
            "image/png": "[encoded data removed]"
          },
          "metadata": {}
        }
      ]
    },
    {
      "cell_type": "code",
      "source": [
        "plt.figure(figsize=(12,4))\n",
        "\n",
        "sns.countplot(x='Показы на карточке товара', data = df, palette='bright')"
      ],
      "metadata": {
        "colab": {
          "base_uri": "https://localhost:8080/",
          "height": 405
        },
        "id": "1J9t-x7ockKP",
        "outputId": "59dea419-1408-4f7b-d476-67d5a8c98d9d"
      },
      "execution_count": null,
      "outputs": [
        {
          "output_type": "execute_result",
          "data": {
            "text/plain": [
              "<Axes: xlabel='Показы на карточке товара', ylabel='count'>"
            ]
          },
          "metadata": {},
          "execution_count": 22
        },
        {
          "output_type": "display_data",
          "data": {
            "text/plain": [
              "<Figure size 1200x400 with 1 Axes>"
            ],
            "image/png": "[encoded data removed]"
          },
          "metadata": {}
        }
      ]
    }
  ]
}